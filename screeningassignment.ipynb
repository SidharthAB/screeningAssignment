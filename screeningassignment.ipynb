{
 "cells": [
  {
   "cell_type": "code",
   "execution_count": 1,
   "id": "7db5d764",
   "metadata": {},
   "outputs": [
    {
     "data": {
      "text/plain": [
       "['This is a placement assignment']"
      ]
     },
     "execution_count": 1,
     "metadata": {},
     "output_type": "execute_result"
    }
   ],
   "source": [
    "f = open('example.txt','r')\n",
    "f.readlines()"
   ]
  },
  {
   "cell_type": "markdown",
   "id": "0e66bb16",
   "metadata": {},
   "source": [
    "# Question 1"
   ]
  },
  {
   "cell_type": "code",
   "execution_count": 2,
   "id": "ff16c145",
   "metadata": {},
   "outputs": [],
   "source": [
    "def replacing():\n",
    "    with open('example.txt','r') as f:\n",
    "        replaced = f.read()\n",
    "\n",
    "    replaced = replaced.replace('placement','screening')\n",
    "    with open('example.txt','w') as f:\n",
    "        f.write(replaced)\n",
    "    \n",
    " "
   ]
  },
  {
   "cell_type": "code",
   "execution_count": 3,
   "id": "4f7482ba",
   "metadata": {},
   "outputs": [
    {
     "data": {
      "text/plain": [
       "['This is a screening assignment']"
      ]
     },
     "execution_count": 3,
     "metadata": {},
     "output_type": "execute_result"
    }
   ],
   "source": [
    "replacing()\n",
    "f = open('example.txt','r')\n",
    "f.readlines()"
   ]
  },
  {
   "cell_type": "markdown",
   "id": "4c75319f",
   "metadata": {},
   "source": [
    "# Question 2"
   ]
  },
  {
   "cell_type": "markdown",
   "id": "a3056c4b",
   "metadata": {},
   "source": [
    "abstract class"
   ]
  },
  {
   "cell_type": "markdown",
   "id": "79b8c16a",
   "metadata": {},
   "source": [
    "python does not support abstract feature direcly - a module is imported called abc to define it"
   ]
  },
  {
   "cell_type": "code",
   "execution_count": 3,
   "id": "becebd44",
   "metadata": {},
   "outputs": [],
   "source": [
    "from abc import ABC,abstractmethod\n",
    "\n",
    "class abstractClassName(ABC): #defining an abstract class\n",
    "    pass"
   ]
  },
  {
   "cell_type": "code",
   "execution_count": 4,
   "id": "ce659122",
   "metadata": {},
   "outputs": [],
   "source": [
    "#defining an abstract method\n",
    "class abstractClassName(ABC):\n",
    "    @abstractmethod  #decorator is used \n",
    "    def abstract_methd(self):\n",
    "        pass"
   ]
  },
  {
   "cell_type": "markdown",
   "id": "c3075483",
   "metadata": {},
   "source": [
    "Name table using abstraction"
   ]
  },
  {
   "cell_type": "code",
   "execution_count": 17,
   "id": "098486b2",
   "metadata": {},
   "outputs": [
    {
     "name": "stdout",
     "output_type": "stream",
     "text": [
      "Sal is 1000\n",
      "The name is: sid\n"
     ]
    }
   ],
   "source": [
    "class Name(ABC):\n",
    "    def __init__(self,first_name):\n",
    "        self.first_name = first_name\n",
    "    @property\n",
    "    def full_name(self):\n",
    "        return f\"{self.first_name}\"\n",
    "    \n",
    "    @abstractmethod\n",
    "    def get_salary(self):\n",
    "        pass\n",
    "\n",
    "class Sal(Name): #inheriting the top class defining the abstract method\n",
    "    def __init__(self):\n",
    "        super().__init__('sid')\n",
    "    \n",
    "    def get_salary(self):\n",
    "        print('Sal is 1000')\n",
    "\n",
    "\n",
    "nm = Sal()\n",
    "nm.get_salary()\n",
    "print(f'The name is: {nm.full_name}')"
   ]
  },
  {
   "cell_type": "markdown",
   "id": "67f4cb37",
   "metadata": {},
   "source": [
    "MULTIPLE INHERITANCE"
   ]
  },
  {
   "cell_type": "code",
   "execution_count": 28,
   "id": "d3eef5a0",
   "metadata": {},
   "outputs": [
    {
     "name": "stdout",
     "output_type": "stream",
     "text": [
      "sidharth \n",
      "student\n"
     ]
    }
   ],
   "source": [
    "class Test:\n",
    "    def a(self):\n",
    "        print('sidharth ')\n",
    "    \n",
    "class Test1:\n",
    "    def a(self):\n",
    "        print('student')\n",
    "    \n",
    "class Test2(Test,Test1):\n",
    "    def a(self):\n",
    "        Test.a(self)\n",
    "        Test1.a(self)\n",
    "    \n",
    "b = Test2()\n",
    "b.a()\n",
    "#multiple inheritance is achieved here"
   ]
  },
  {
   "cell_type": "markdown",
   "id": "68e96b67",
   "metadata": {},
   "source": [
    "DECORATOR"
   ]
  },
  {
   "cell_type": "code",
   "execution_count": 31,
   "id": "280ba33a",
   "metadata": {},
   "outputs": [
    {
     "name": "stdout",
     "output_type": "stream",
     "text": [
      "hai\n",
      "hai\n"
     ]
    }
   ],
   "source": [
    "def snap(item):\n",
    "    return item.lower()\n",
    "\n",
    "print(snap('HAI'))\n",
    "\n",
    "low = snap\n",
    "\n",
    "print(low('HAI'))\n",
    "#the o/p is same for both as low is a variable storing the function snap"
   ]
  }
 ],
 "metadata": {
  "kernelspec": {
   "display_name": "Python 3",
   "language": "python",
   "name": "python3"
  },
  "language_info": {
   "codemirror_mode": {
    "name": "ipython",
    "version": 3
   },
   "file_extension": ".py",
   "mimetype": "text/x-python",
   "name": "python",
   "nbconvert_exporter": "python",
   "pygments_lexer": "ipython3",
   "version": "3.8.8"
  }
 },
 "nbformat": 4,
 "nbformat_minor": 5
}
